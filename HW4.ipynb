{
  "nbformat": 4,
  "nbformat_minor": 0,
  "metadata": {
    "colab": {
      "name": "HW4",
      "provenance": [],
      "authorship_tag": "ABX9TyOOZYmV8dwTqo48ehC1QZ3y",
      "include_colab_link": true
    },
    "kernelspec": {
      "name": "python3",
      "display_name": "Python 3"
    },
    "language_info": {
      "name": "python"
    }
  },
  "cells": [
    {
      "cell_type": "markdown",
      "metadata": {
        "id": "view-in-github",
        "colab_type": "text"
      },
      "source": [
        "<a href=\"https://colab.research.google.com/github/chiao-lyc/HW4/blob/master/HW4.ipynb\" target=\"_parent\"><img src=\"https://colab.research.google.com/assets/colab-badge.svg\" alt=\"Open In Colab\"/></a>"
      ]
    },
    {
      "cell_type": "code",
      "metadata": {
        "colab": {
          "base_uri": "https://localhost:8080/"
        },
        "id": "rEjLtegyXuLh",
        "outputId": "52f297f3-2ad4-46c6-cfa2-701896087ea9"
      },
      "source": [
        "!pip3 install opencc-python-reimplemented"
      ],
      "execution_count": 7,
      "outputs": [
        {
          "output_type": "stream",
          "text": [
            "Requirement already satisfied: opencc-python-reimplemented in /usr/local/lib/python3.7/dist-packages (0.1.6)\n"
          ],
          "name": "stdout"
        }
      ]
    },
    {
      "cell_type": "code",
      "metadata": {
        "colab": {
          "base_uri": "https://localhost:8080/"
        },
        "id": "WfV53vR4X5rO",
        "outputId": "9e24323a-c484-4ac0-9f35-1f65849cbabe"
      },
      "source": [
        "!pip3 install gensim"
      ],
      "execution_count": 12,
      "outputs": [
        {
          "output_type": "stream",
          "text": [
            "Requirement already satisfied: gensim in /usr/local/lib/python3.7/dist-packages (3.6.0)\n",
            "Requirement already satisfied: smart-open>=1.2.1 in /usr/local/lib/python3.7/dist-packages (from gensim) (5.1.0)\n",
            "Requirement already satisfied: scipy>=0.18.1 in /usr/local/lib/python3.7/dist-packages (from gensim) (1.4.1)\n",
            "Requirement already satisfied: numpy>=1.11.3 in /usr/local/lib/python3.7/dist-packages (from gensim) (1.19.5)\n",
            "Requirement already satisfied: six>=1.5.0 in /usr/local/lib/python3.7/dist-packages (from gensim) (1.15.0)\n"
          ],
          "name": "stdout"
        }
      ]
    },
    {
      "cell_type": "code",
      "metadata": {
        "colab": {
          "base_uri": "https://localhost:8080/"
        },
        "id": "dcWFvkuidqzn",
        "outputId": "ed2d8aba-8c7f-4db6-e62c-baa2f877bfa6"
      },
      "source": [
        "!pip install word2vec"
      ],
      "execution_count": 31,
      "outputs": [
        {
          "output_type": "stream",
          "text": [
            "Collecting word2vec\n",
            "  Downloading word2vec-0.11.1.tar.gz (42 kB)\n",
            "\u001b[?25l\r\u001b[K     |███████▊                        | 10 kB 22.0 MB/s eta 0:00:01\r\u001b[K     |███████████████▌                | 20 kB 10.4 MB/s eta 0:00:01\r\u001b[K     |███████████████████████▎        | 30 kB 8.4 MB/s eta 0:00:01\r\u001b[K     |███████████████████████████████ | 40 kB 7.7 MB/s eta 0:00:01\r\u001b[K     |████████████████████████████████| 42 kB 505 kB/s \n",
            "\u001b[?25h  Installing build dependencies ... \u001b[?25l\u001b[?25hdone\n",
            "  Getting requirements to build wheel ... \u001b[?25l\u001b[?25hdone\n",
            "    Preparing wheel metadata ... \u001b[?25l\u001b[?25hdone\n",
            "Requirement already satisfied: joblib in /usr/local/lib/python3.7/dist-packages (from word2vec) (1.0.1)\n",
            "Requirement already satisfied: numpy>=1.9.2 in /usr/local/lib/python3.7/dist-packages (from word2vec) (1.19.5)\n",
            "Building wheels for collected packages: word2vec\n",
            "  Building wheel for word2vec (PEP 517) ... \u001b[?25l\u001b[?25hdone\n",
            "  Created wheel for word2vec: filename=word2vec-0.11.1-py2.py3-none-any.whl size=156423 sha256=4d5810e8f70092b12825d93d922ed5a8ba04127df5c574dec0359062189d4f20\n",
            "  Stored in directory: /root/.cache/pip/wheels/c9/c0/d4/29d797817e268124a32b6cf8beb8b8fe87b86f099d5a049e61\n",
            "Successfully built word2vec\n",
            "Installing collected packages: word2vec\n",
            "Successfully installed word2vec-0.11.1\n"
          ],
          "name": "stdout"
        }
      ]
    },
    {
      "cell_type": "code",
      "metadata": {
        "colab": {
          "base_uri": "https://localhost:8080/"
        },
        "id": "FsyHbNZPX9fP",
        "outputId": "d0d289f5-b12d-4979-ea20-022e86d86b33"
      },
      "source": [
        "from google.colab import drive\n",
        "drive.mount('/content/drive')"
      ],
      "execution_count": 21,
      "outputs": [
        {
          "output_type": "stream",
          "text": [
            "Drive already mounted at /content/drive; to attempt to forcibly remount, call drive.mount(\"/content/drive\", force_remount=True).\n"
          ],
          "name": "stdout"
        }
      ]
    },
    {
      "cell_type": "code",
      "metadata": {
        "colab": {
          "base_uri": "https://localhost:8080/"
        },
        "id": "JLJcqDmaYMFc",
        "outputId": "d1b8af7f-7874-46e5-c060-8070f675b081"
      },
      "source": [
        "import pandas as pd\n",
        "import os\n",
        "\n",
        "filePath = []\n",
        "def show_folder_content(folder_path):\n",
        "    folder_content = os.listdir(folder_path)\n",
        "    for item in folder_content:\n",
        "        if os.path.isdir(folder_path + '/' + item):\n",
        "            show_folder_content(folder_path + '/' + item)\n",
        "        elif os.path.isfile(folder_path + '/' + item):\n",
        "            filePath.append(folder_path + '/' + item)\n",
        "        else:\n",
        "            print('無法辨識：' + item)\n",
        "\n",
        "\n",
        "# 顯示指定資料夾的內容\n",
        "target_folder = '/content/drive/My Drive/wiki_zh'\n",
        "show_folder_content(target_folder)\n",
        "print(\"Finish\", len(filePath))"
      ],
      "execution_count": 48,
      "outputs": [
        {
          "output_type": "stream",
          "text": [
            "Finish 1246\n"
          ],
          "name": "stdout"
        }
      ]
    },
    {
      "cell_type": "code",
      "metadata": {
        "colab": {
          "base_uri": "https://localhost:8080/"
        },
        "id": "JfapWDC0be9N",
        "outputId": "75feeeea-622d-402b-e9fe-b754c88bdc7e"
      },
      "source": [
        "# coding=utf-8\n",
        "from opencc import OpenCC\n",
        "import jieba \n",
        "import json\n",
        "import re\n",
        "\n",
        "dictionaryPath = '/content/drive/My Drive/wiki_zh/Model/dict.txt.big'\n",
        "jieba.set_dictionary(dictionaryPath)\n",
        "cc = OpenCC('s2t')\n",
        "\n",
        "# 讀取停用詞\n",
        "def stopwordslist(filepath):  \n",
        "    stopwords = [line.strip() for line in open(filepath, 'r', encoding='utf-8').readlines()]  \n",
        "    return stopwords \n",
        "\n",
        "def LoadToSeg(filepath, fW):\n",
        "    with open(filepath, 'r') as obj:\n",
        "        for line in obj.readlines():\n",
        "            dic = json.loads(line)\n",
        "            temp_text = re.findall('[\\u4e00-\\u9fa5]', cc.convert(dic['text']))\n",
        "            text = ''.join(temp_text)\n",
        "            tags = jieba.lcut(text, cut_all=False)\n",
        "            ThisLine = ''\n",
        "            for tag in tags:\n",
        "                if tag not in stopwords:  \n",
        "                    if tag != '\\t' and tag != '\\n' and tag != '' and len(tag) > 1:  \n",
        "                        ThisLine += tag  \n",
        "                        ThisLine += \" \"  \n",
        "            fW.write((ThisLine+\"\\n\").encode('utf-8'))\n",
        "stopwords = stopwordslist('/content/drive/My Drive/wiki_zh/Model/StopWords.txt') \n",
        "fileSegWordDonePath ='/content/drive/My Drive/wiki_zh/Model/corpusSegDone.txt'\n",
        "with open(fileSegWordDonePath,'wb') as fW:\n",
        "    fW.truncate(0)\n",
        "    index = 0\n",
        "    for path in filePath:\n",
        "        LoadToSeg(path, fW)\n",
        "        index += 1\n",
        "        if index % 100 == 0:\n",
        "            print(index)\n",
        "\n",
        "print(\"Finish\")"
      ],
      "execution_count": null,
      "outputs": [
        {
          "output_type": "stream",
          "text": [
            "Building prefix dict from /content/drive/My Drive/wiki_zh/Model/dict.txt.big ...\n",
            "Dumping model to file cache /tmp/jieba.ue8da71977d98f46d7d7945f4babe3477.cache\n",
            "Loading model cost 2.294 seconds.\n",
            "Prefix dict has been built successfully.\n"
          ],
          "name": "stderr"
        }
      ]
    },
    {
      "cell_type": "code",
      "metadata": {
        "colab": {
          "base_uri": "https://localhost:8080/"
        },
        "id": "7oeBKzGjbfXR",
        "outputId": "f5e20fb4-3c11-4532-872f-650ea4f5678c"
      },
      "source": [
        "# jieba分詞轉word2vec向量\n",
        "from gensim.models import word2vec\n",
        "fileSegWordDonePath ='/content/drive/My Drive/wiki_zh/Model/corpusSegDone.txt'\n",
        "fileSegWordDonePath2 ='/content/drive/My Drive/wiki_zh/Model/corpusSegDone.model'\n",
        "\n",
        "sentences = word2vec.LineSentence(fileSegWordDonePath)\n",
        "model = word2vec.Word2Vec(min_count = 1)\n",
        "model.save(fileSegWordDonePath2)\n",
        "print(\"Finish\")"
      ],
      "execution_count": 40,
      "outputs": [
        {
          "output_type": "stream",
          "text": [
            "Finish\n"
          ],
          "name": "stdout"
        }
      ]
    },
    {
      "cell_type": "code",
      "metadata": {
        "colab": {
          "base_uri": "https://localhost:8080/"
        },
        "id": "T9bDRVBzdFrJ",
        "outputId": "d2727aad-c6a4-4e32-eb7c-1dbcc0dcec3c"
      },
      "source": [
        "import sys\n",
        "from gensim.models import word2vec \n",
        "from gensim import models\n",
        "\n",
        "def main():   \n",
        "    a = input(\"input:\") \n",
        "    fileSegWordDonePath2 = '/content/drive/My Drive/wiki_zh/Model/corpusSegDone.model'\n",
        "    model = models.Word2Vec.load(fileSegWordDonePath2)\n",
        "    try:\n",
        "        res = model.most_similar(a, topn=20)\n",
        "        for item in res: \n",
        "            print(str(item[0]) + ':' + str(item[1]))\n",
        "    except KeyError:\n",
        "        print(a + \" is not in the vocabulary\")\n",
        "\n",
        "if __name__=='__main__':\n",
        "    main()"
      ],
      "execution_count": 39,
      "outputs": [
        {
          "output_type": "stream",
          "text": [
            "input:草莓\n"
          ],
          "name": "stdout"
        },
        {
          "output_type": "stream",
          "text": [
            "/usr/local/lib/python3.7/dist-packages/ipykernel_launcher.py:11: DeprecationWarning: Call to deprecated `most_similar` (Method will be removed in 4.0.0, use self.wv.most_similar() instead).\n",
            "  # This is added back by InteractiveShellApp.init_path()\n"
          ],
          "name": "stderr"
        },
        {
          "output_type": "stream",
          "text": [
            "橙子:0.7421150803565979\n",
            "藍莓:0.7363928556442261\n",
            "薰衣草:0.7217570543289185\n",
            "胡蘿蔔:0.7120662927627563\n",
            "覆盆子:0.7095330953598022\n",
            "茄子:0.7087969779968262\n",
            "豌豆:0.7086479663848877\n",
            "蔓越莓:0.7049437165260315\n",
            "檸檬:0.7038824558258057\n",
            "果醬:0.6998642086982727\n",
            "菠菜:0.6995939016342163\n",
            "南瓜:0.6944470405578613\n",
            "薄荷:0.6873359680175781\n",
            "奇異果:0.6851011514663696\n",
            "蜜瓜:0.6806410551071167\n",
            "仔紫背:0.6805784702301025\n",
            "馬鈴薯:0.6802656650543213\n",
            "花椰菜:0.6800419092178345\n",
            "紅莓:0.6784149408340454\n",
            "紅豆:0.6750283241271973\n"
          ],
          "name": "stdout"
        }
      ]
    }
  ]
}